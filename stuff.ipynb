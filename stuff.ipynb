{
 "cells": [
  {
   "cell_type": "code",
   "execution_count": 5,
   "metadata": {},
   "outputs": [],
   "source": [
    "import numpy as np\n",
    "import pandas as pd"
   ]
  },
  {
   "cell_type": "code",
   "execution_count": null,
   "metadata": {},
   "outputs": [],
   "source": [
    "x = x.rename(columns={0: \"X1\", 1: \"X2\"})\n"
   ]
  },
  {
   "cell_type": "code",
   "execution_count": 35,
   "metadata": {},
   "outputs": [],
   "source": [
    "def split_std_xtr(x):\n",
    "    x=pd.DataFrame(x).rename(columns={0: \"X1\", 1: \"X2\"})\n",
    "    quantiles = x.quantile(0.95, axis=0, interpolation=\"lower\")\n",
    "    data_extreme=x[(x[\"X1\"]>=quantiles[0]) | (x[\"X2\"]>=quantiles[1])]\n",
    "    data_extreme.reset_index()\n",
    "    data_std = x[~((x[\"X1\"]>=quantiles[0]) | (x[\"X2\"]>=quantiles[1]))]\n",
    "    data_std.reset_index()\n",
    "    return np.array(data_std), np.array(data_extreme)"
   ]
  },
  {
   "cell_type": "code",
   "execution_count": 38,
   "metadata": {},
   "outputs": [
    {
     "data": {
      "text/plain": [
       "50.5"
      ]
     },
     "execution_count": 38,
     "metadata": {},
     "output_type": "execute_result"
    }
   ],
   "source": [
    "x = np.zeros((100, 2))\n",
    "x[:, 0] = np.arange(1, 101)\n",
    "x[:, 1] = np.arange(1, 101)\n",
    "a = 0.9\n",
    "b=1.1\n",
    "\n",
    "x_std, x_xtr = split_std_xtr(x)\n",
    "\n",
    "D_loss_std = a*(x_std).mean()\n",
    "D_loss_xtr = b*(x_xtr).mean()\n",
    "# D_fake_score = D_output_fake\n",
    "\n",
    "# gradient backprop & optimize ONLY D's parameters\n",
    "D_loss = D_loss_std + D_loss_xtr\n",
    "D_loss\n"
   ]
  }
 ],
 "metadata": {
  "kernelspec": {
   "display_name": "Python 3",
   "language": "python",
   "name": "python3"
  },
  "language_info": {
   "codemirror_mode": {
    "name": "ipython",
    "version": 3
   },
   "file_extension": ".py",
   "mimetype": "text/x-python",
   "name": "python",
   "nbconvert_exporter": "python",
   "pygments_lexer": "ipython3",
   "version": "3.11.2"
  }
 },
 "nbformat": 4,
 "nbformat_minor": 2
}
