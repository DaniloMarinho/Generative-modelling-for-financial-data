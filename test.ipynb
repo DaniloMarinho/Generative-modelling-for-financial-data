{
 "cells": [
  {
   "cell_type": "code",
   "execution_count": 1,
   "metadata": {},
   "outputs": [],
   "source": [
    "import numpy as np \n",
    "import torch "
   ]
  },
  {
   "cell_type": "code",
   "execution_count": null,
   "metadata": {},
   "outputs": [],
   "source": [
    "\n",
    "def energy_distance2(x, y):\n",
    "    n = x.shape[0]\n",
    "    m = y.shape[0]\n",
    "\n",
    "    A = torch.tensor([0.], requires_grad=True)\n",
    "    for i in range(n):\n",
    "        for j in range(m):\n",
    "            A = A + torch.linalg.norm(x[i,:]-y[j,:])\n",
    "    B = torch.tensor([0.], requires_grad=True)\n",
    "    for i in range(n):\n",
    "        for j in range(n):\n",
    "            B = B + torch.linalg.norm(x[i,:] - x[j,:])\n",
    "    C = torch.tensor([0.], requires_grad=True)\n",
    "    for i in range(m):\n",
    "        for j in range(m):\n",
    "            C = C + torch.linalg.norm(y[i,:] - y[j,:])\n",
    "\n",
    "    result = 2*A/(n*m) - C/(m**2)  - B/(n**2) \n",
    "    return result"
   ]
  },
  {
   "cell_type": "code",
   "execution_count": null,
   "metadata": {},
   "outputs": [],
   "source": [
    "def energy_distance1(x, y):\n",
    "    n=x.shape[0]\n",
    "    m=y.shape[0]\n",
    "\n",
    "    # A = torch.tensor([0.], requires_grad=True)\n",
    "    # for i in range(n):\n",
    "    #     for j in range(m):\n",
    "    #         A = A + torch.linalg.norm(x[i,:]-y[j,:])\n",
    "    # B = torch.tensor([0.], requires_grad=True)\n",
    "    # for i in range(n):\n",
    "    #     for j in range(n):\n",
    "    #         B = B + torch.linalg.norm(x[i,:] - x[j,:])\n",
    "    # C = torch.tensor([0.], requires_grad=True)\n",
    "    # for i in range(m):\n",
    "    #     for j in range(m):\n",
    "    #         C = C + torch.linalg.norm(y[i,:] - y[j,:])\n",
    "\n",
    "    # x_reshaped = torch.tensor(x[:, None, :], requires_grad=True)\n",
    "    # y_reshaped = torch.tensor(y[None, :, :], requires_grad=True)\n",
    "    x_reshaped = torch.unsqueeze(x, 1)\n",
    "    y_reshaped = torch.unsqueeze(y, 0)\n",
    "    # x_reshaped = torch.reshape(x, (x.shape[0], 1, x.shape[1]))\n",
    "    # y_reshaped = torch.reshape(y, (1, y.shape[0], y.shape[1]))\n",
    "\n",
    "    # x_reshaped = x.view((x.shape[0], 1, x.shape[1]))\n",
    "    # y_reshaped = y.view((1, y.shape[0], y.shape[1])) \n",
    "\n",
    "    normsA = torch.linalg.norm(x_reshaped - y_reshaped, axis=2) \n",
    "    A = torch.sum(normsA)\n",
    "    normsB = torch.linalg.norm(x_reshaped - x_reshaped, axis=2) \n",
    "    B = torch.sum(normsB) \n",
    "    normsC = torch.linalg.norm(y_reshaped - y_reshaped, axis=2) \n",
    "    C = torch.sum(normsC)\n",
    "\n",
    "    result = 2*A/(n*m) - C/(m**2)  - B/(n**2) \n",
    "    return result"
   ]
  },
  {
   "cell_type": "code",
   "execution_count": null,
   "metadata": {},
   "outputs": [],
   "source": []
  }
 ],
 "metadata": {
  "kernelspec": {
   "display_name": "Python 3",
   "language": "python",
   "name": "python3"
  },
  "language_info": {
   "codemirror_mode": {
    "name": "ipython",
    "version": 3
   },
   "file_extension": ".py",
   "mimetype": "text/x-python",
   "name": "python",
   "nbconvert_exporter": "python",
   "pygments_lexer": "ipython3",
   "version": "3.11.2"
  }
 },
 "nbformat": 4,
 "nbformat_minor": 2
}
